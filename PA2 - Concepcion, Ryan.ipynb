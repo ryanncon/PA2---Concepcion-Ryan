{
 "cells": [
  {
   "cell_type": "markdown",
   "id": "d058627c",
   "metadata": {},
   "source": [
    "# Create a random 5x5 ndarray and store it to variable X. Normalize X. Save your normalized ndarray as X_normalized.npy"
   ]
  },
  {
   "cell_type": "code",
   "execution_count": 7,
   "id": "067e7191",
   "metadata": {},
   "outputs": [
    {
     "name": "stdout",
     "output_type": "stream",
     "text": [
      "Random 5x5 Array\n",
      "[[0.80029062 0.93146085 0.86437962 0.11238031 0.60402277]\n",
      " [0.92541288 0.22631803 0.26121358 0.9778231  0.23233479]\n",
      " [0.66217499 0.87984784 0.98072543 0.52658605 0.34416681]\n",
      " [0.47058977 0.89959021 0.81254846 0.64950216 0.21924551]\n",
      " [0.77007541 0.02298371 0.54317099 0.73900427 0.87280347]]\n",
      "Normalized\n",
      "[[ 0.63852809  1.08607451  0.85719663 -1.70858832 -0.03112824]\n",
      " [ 1.06543913 -1.31983838 -1.20077646  1.24426025 -1.29930948]\n",
      " [ 0.16728431  0.90997344  1.25416286 -0.29533855 -0.91774408]\n",
      " [-0.48639511  0.97733346  0.68035123  0.1240452  -1.34396949]\n",
      " [ 0.53543526 -2.01360516 -0.23875155  0.42942205  0.88593839]]\n"
     ]
    }
   ],
   "source": [
    "import numpy as np\n",
    "\n",
    "#Create a random 5x5 ndarray\n",
    "X = np.random.rand(5, 5)\n",
    "\n",
    "#Print random 5x5 array\n",
    "print(\"Random 5x5 Array\")\n",
    "print(X)\n",
    "\n",
    "#Step 3: Normalize the array\n",
    "X_mean = X.mean()\n",
    "X_std = X.std()\n",
    "X_normalized = (X - X_mean) / X_std\n",
    "print(\"Normalized\")\n",
    "print(X_normalized)\n",
    "\n",
    "#Save the normalized array as X_normalized.npy\n",
    "np.save('X_normalized.npy', X_normalized)"
   ]
  },
  {
   "cell_type": "markdown",
   "id": "bb354fb1",
   "metadata": {},
   "source": [
    "# Create a 10x10 ndarray, which are the squares of the first 100 positive integers. From this ndarray, determine all elements that are divisible by 3. Save the result as div_by_3.npy"
   ]
  },
  {
   "cell_type": "code",
   "execution_count": 41,
   "id": "b8caf579",
   "metadata": {},
   "outputs": [
    {
     "name": "stdout",
     "output_type": "stream",
     "text": [
      "Array is: \n",
      "[[    1     4     9    16    25    36    49    64    81   100]\n",
      " [  121   144   169   196   225   256   289   324   361   400]\n",
      " [  441   484   529   576   625   676   729   784   841   900]\n",
      " [  961  1024  1089  1156  1225  1296  1369  1444  1521  1600]\n",
      " [ 1681  1764  1849  1936  2025  2116  2209  2304  2401  2500]\n",
      " [ 2601  2704  2809  2916  3025  3136  3249  3364  3481  3600]\n",
      " [ 3721  3844  3969  4096  4225  4356  4489  4624  4761  4900]\n",
      " [ 5041  5184  5329  5476  5625  5776  5929  6084  6241  6400]\n",
      " [ 6561  6724  6889  7056  7225  7396  7569  7744  7921  8100]\n",
      " [ 8281  8464  8649  8836  9025  9216  9409  9604  9801 10000]]\n",
      "Number of elements divisible by 3:\n",
      "[   9   36   81  144  225  324  441  576  729  900 1089 1296 1521 1764\n",
      " 2025 2304 2601 2916 3249 3600 3969 4356 4761 5184 5625 6084 6561 7056\n",
      " 7569 8100 8649 9216 9801]\n"
     ]
    }
   ],
   "source": [
    "#Create a 10x10 array from 1 to 100 , and exponentiate each number to 2\n",
    "A = np.arange(1, 101).reshape(10, 10) ** 2\n",
    "\n",
    "#Find elements that are divisible by 3\n",
    "div_by_3 = A[A % 3 == 0]\n",
    "\n",
    "\n",
    "\n",
    "print(\"Array is: \")\n",
    "print(A)\n",
    "print(\"Number of elements divisible by 3:\")\n",
    "print(div_by_3)\n",
    "\n",
    "\n",
    "#Save the result as div_by_3.npy\n",
    "np.save('div_by_3.npy', div_by_3)"
   ]
  }
 ],
 "metadata": {
  "kernelspec": {
   "display_name": "Python 3 (ipykernel)",
   "language": "python",
   "name": "python3"
  },
  "language_info": {
   "codemirror_mode": {
    "name": "ipython",
    "version": 3
   },
   "file_extension": ".py",
   "mimetype": "text/x-python",
   "name": "python",
   "nbconvert_exporter": "python",
   "pygments_lexer": "ipython3",
   "version": "3.11.4"
  }
 },
 "nbformat": 4,
 "nbformat_minor": 5
}
