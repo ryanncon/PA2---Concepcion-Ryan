{
 "cells": [
  {
   "cell_type": "markdown",
   "id": "d058627c",
   "metadata": {},
   "source": [
    "# Create a random 5x5 ndarray and store it to variable X. Normalize X. Save your normalized ndarray as X_normalized.npy"
   ]
  },
  {
   "cell_type": "code",
   "execution_count": 4,
   "id": "067e7191",
   "metadata": {},
   "outputs": [
    {
     "name": "stdout",
     "output_type": "stream",
     "text": [
      "Random 5x5 Array\n",
      "[[0.38091187 0.48938746 0.96763568 0.46620257 0.94388637]\n",
      " [0.50993217 0.68868718 0.17701088 0.92808885 0.65975692]\n",
      " [0.42006992 0.35819386 0.17555785 0.37906374 0.295499  ]\n",
      " [0.47883256 0.92480671 0.23809706 0.19757525 0.92598166]\n",
      " [0.55393675 0.50290627 0.20230583 0.47661023 0.14197483]]\n",
      "Normalized\n",
      "[[-0.45261909 -0.03795506  1.79021968 -0.12658276  1.69943441]\n",
      " [ 0.04058012  0.72389768 -1.23206088  1.63904604  0.61330746]\n",
      " [-0.30293165 -0.53946207 -1.23761531 -0.45968383 -0.77912247]\n",
      " [-0.07830273  1.62649958 -0.99854988 -1.15345052  1.63099102]\n",
      " [ 0.20879418  0.0137226  -1.13536719 -0.08679793 -1.36599139]]\n"
     ]
    }
   ],
   "source": [
    "import numpy as np\n",
    "\n",
    "#Generates 5x5 matrix filled with random float numbers between 0 and 1. \n",
    "#Each element in the matrix is randomly chosen from a uniform distribution.\n",
    "X = np.random.rand(5, 5)\n",
    "\n",
    "#Print random 5x5 array\n",
    "print(\"Random 5x5 Array\")\n",
    "print(X)\n",
    "\n",
    "#Create variables that calculates the mean and standard deviation.\n",
    "X_mean = X.mean()\n",
    "X_std = X.std()\n",
    "\n",
    "#Normalize by subtracting the mean from each element and dividing by the standard deviation, resulting in X_normalized.\n",
    "X_normalized = (X - X_mean) / X_std\n",
    "print(\"Normalized\")\n",
    "print(X_normalized)\n",
    "\n",
    "#Save the normalized array as X_normalized.npy\n",
    "#Allows you to store the array and load it later without recalculating or regenerating the data.\n",
    "np.save('X_normalized.npy', X_normalized)"
   ]
  },
  {
   "cell_type": "markdown",
   "id": "bb354fb1",
   "metadata": {},
   "source": [
    "# Create a 10x10 ndarray, which are the squares of the first 100 positive integers. From this ndarray, determine all elements that are divisible by 3. Save the result as div_by_3.npy"
   ]
  },
  {
   "cell_type": "code",
   "execution_count": 5,
   "id": "b8caf579",
   "metadata": {},
   "outputs": [
    {
     "name": "stdout",
     "output_type": "stream",
     "text": [
      "Array is: \n",
      "[[    1     4     9    16    25    36    49    64    81   100]\n",
      " [  121   144   169   196   225   256   289   324   361   400]\n",
      " [  441   484   529   576   625   676   729   784   841   900]\n",
      " [  961  1024  1089  1156  1225  1296  1369  1444  1521  1600]\n",
      " [ 1681  1764  1849  1936  2025  2116  2209  2304  2401  2500]\n",
      " [ 2601  2704  2809  2916  3025  3136  3249  3364  3481  3600]\n",
      " [ 3721  3844  3969  4096  4225  4356  4489  4624  4761  4900]\n",
      " [ 5041  5184  5329  5476  5625  5776  5929  6084  6241  6400]\n",
      " [ 6561  6724  6889  7056  7225  7396  7569  7744  7921  8100]\n",
      " [ 8281  8464  8649  8836  9025  9216  9409  9604  9801 10000]]\n",
      "Number of elements divisible by 3:\n",
      "[   9   36   81  144  225  324  441  576  729  900 1089 1296 1521 1764\n",
      " 2025 2304 2601 2916 3249 3600 3969 4356 4761 5184 5625 6084 6561 7056\n",
      " 7569 8100 8649 9216 9801]\n"
     ]
    }
   ],
   "source": [
    "#Create a 10x10 array from 1 to 100 , and exponentiate each number to 2. \n",
    "#Reshapes the array into a 10x10 matrix.\n",
    "A = np.arange(1, 101).reshape(10, 10) ** 2\n",
    "\n",
    "#Selects all elements from the matrix that are divisible by 3.\n",
    "#Creates a new array which contains only those elements for which the remainder when divided by 3 is zero.\n",
    "div_by_3 = A[A % 3 == 0]\n",
    "\n",
    "#Print the 10x10 matrix from 1 to 100, and also print the list of elements divisible by 3 from that matrix.\n",
    "print(\"Array is: \")\n",
    "print(A)\n",
    "print(\"Number of elements divisible by 3:\")\n",
    "print(div_by_3)\n",
    "\n",
    "\n",
    "#Save the result as div_by_3.npy, and load it without regenerating the data.\n",
    "np.save('div_by_3.npy', div_by_3)"
   ]
  }
 ],
 "metadata": {
  "kernelspec": {
   "display_name": "Python 3 (ipykernel)",
   "language": "python",
   "name": "python3"
  },
  "language_info": {
   "codemirror_mode": {
    "name": "ipython",
    "version": 3
   },
   "file_extension": ".py",
   "mimetype": "text/x-python",
   "name": "python",
   "nbconvert_exporter": "python",
   "pygments_lexer": "ipython3",
   "version": "3.11.4"
  }
 },
 "nbformat": 4,
 "nbformat_minor": 5
}
